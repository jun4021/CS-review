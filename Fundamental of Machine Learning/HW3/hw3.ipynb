{
  "nbformat": 4,
  "nbformat_minor": 0,
  "metadata": {
    "colab": {
      "name": "HW3_CF.ipynb",
      "provenance": [],
      "collapsed_sections": []
    },
    "kernelspec": {
      "name": "python3",
      "display_name": "Python 3"
    },
    "language_info": {
      "name": "python"
    },
    "accelerator": "GPU"
  },
  "cells": [
    {
      "cell_type": "code",
      "execution_count": null,
      "metadata": {
        "id": "8xok1AEh-UF8"
      },
      "outputs": [],
      "source": [
        "# json file -> user_id, business_id \n",
        "import json\n",
        "path = 'yelp_academic_dataset_review.json'\n",
        "user_id = []\n",
        "business_id = []\n",
        "cnt = 0\n",
        "for line in open(path):\n",
        "   user_id.append(json.loads(line)[\"user_id\"])\n",
        "   business_id.append(json.loads(line)[\"business_id\"])\n",
        "   "
      ]
    },
    {
      "cell_type": "code",
      "source": [
        "import numpy as np\n",
        "user = []\n",
        "business = []\n",
        "rating = np.zeros([100,50])-np.ones([100,50])\n",
        "non_empty = []"
      ],
      "metadata": {
        "id": "sByO6vi2Erod"
      },
      "execution_count": null,
      "outputs": []
    },
    {
      "cell_type": "code",
      "source": [
        "# user_id, business_id 빈도가 많은 순으로 user, business에 저장 (초기 : user – 100개, business – 50개)\n",
        "from collections import Counter\n",
        "def add_top(user_num,bus_num,user_start):\n",
        "    user_top = Counter(user_id).most_common(user_num)\n",
        "\n",
        "    business_top = Counter(business_id).most_common(bus_num)\n",
        "    cnt=0\n",
        "    for id, num in user_top[user_start:]:\n",
        "        user.append(id)\n",
        "        \n",
        "    for id, num in business_top:\n",
        "        business.append(id)    \n",
        "    \n"
      ],
      "metadata": {
        "id": "pOzurZ76EOJk"
      },
      "execution_count": null,
      "outputs": []
    },
    {
      "cell_type": "code",
      "source": [
        "# rating matrix 구현(size : 100*50)\n",
        "def fill_rating():\n",
        "    for line in open(path):\n",
        "        check_user = json.loads(line)[\"user_id\"]\n",
        "        check_bus = json.loads(line)[\"business_id\"]\n",
        "        if ((check_user in user) and (check_bus in business)):\n",
        "            if(rating[user.index(check_user),business.index(check_bus)] == -1):\n",
        "                non_empty.append((check_user,check_bus))\n",
        "                stars = json.loads(line)[\"stars\"]\n",
        "                rating[user.index(check_user),business.index(check_bus)] = stars\n"
      ],
      "metadata": {
        "id": "Wok4Hl8XEesh"
      },
      "execution_count": null,
      "outputs": []
    },
    {
      "cell_type": "code",
      "source": [
        "# 각 row, column이 비어 있는지 확인하는 함수 \n",
        "# 해당 데이터 셋의 경우 column은 해당사항 없어 비어 있는 row의 user_id만 출력.\n",
        "def check_rating():\n",
        "    row_check = []\n",
        "    column_check = []\n",
        "    for i,j in non_empty:\n",
        "        if not i in row_check:\n",
        "            row_check.append(i)\n",
        "        if not j in column_check:\n",
        "            column_check.append(j)\n",
        "\n",
        "    row_check = list(set(user)-set(row_check))\n",
        "    return row_check\n"
      ],
      "metadata": {
        "id": "Al9hFrauwrav"
      },
      "execution_count": null,
      "outputs": []
    },
    {
      "cell_type": "code",
      "source": [
        "# 초기 100 * 50 matrix 구현\n",
        "add_top(100,50,0)\n",
        "fill_rating()"
      ],
      "metadata": {
        "id": "kR4nisrJ_2Jb"
      },
      "execution_count": null,
      "outputs": []
    },
    {
      "cell_type": "code",
      "source": [
        "# 비어있는 row 교체 (column 의 경우 없음)\n",
        "user_need = 100\n",
        "user_remove = check_rating()\n",
        "length = len(user_remove)\n",
        "while(length!=0):\n",
        "    user_need += length\n",
        "    for i in user_remove:\n",
        "        user.remove(i)\n",
        "    add_top(user_need,50,user_need-length)\n",
        "    fill_rating()\n",
        "    user_remove = check_rating()\n",
        "    length = len(user_remove)\n"
      ],
      "metadata": {
        "id": "bblOixAUCO-B"
      },
      "execution_count": null,
      "outputs": []
    },
    {
      "cell_type": "code",
      "source": [
        "# 명시된 조건에 맞게 split 시 필요한 check 함수\n",
        "def check_row(matrix,row,column):\n",
        "    for i in matrix[row,:column]:\n",
        "        if i != -1:\n",
        "            return True\n",
        "    for i in matrix[row,column+1:]:\n",
        "        if i != -1:\n",
        "            return True\n",
        "    return False        \n",
        "\n",
        "def check_column(matrix,row,column):\n",
        "    for i in matrix[:row,column]:\n",
        "        if i != -1:\n",
        "            return True\n",
        "    for i in matrix[row+1:,column]:\n",
        "        if i != -1:\n",
        "            return True\n",
        "    return False\n"
      ],
      "metadata": {
        "id": "UPuxgZiOrGHu"
      },
      "execution_count": null,
      "outputs": []
    },
    {
      "cell_type": "code",
      "source": [
        "# split training and test\n",
        "import random\n",
        "random.seed(1)\n",
        "test = 0\n",
        "test_matrix = np.zeros([100,50])-np.ones([100,50])\n",
        "non_empty_length = len(non_empty)\n",
        "userID,busID = non_empty[random.randrange(0,non_empty_length)]\n",
        "user_num = user.index(userID)\n",
        "bus_num = business.index(busID)\n",
        "\n",
        "chosen = rating[user_num,bus_num]\n",
        "\n",
        "while(test < non_empty_length * 0.1):\n",
        "    userID,busID = non_empty[random.randrange(0,non_empty_length)]\n",
        "    user_num = user.index(userID)\n",
        "    bus_num = business.index(busID)\n",
        "    chosen = rating[user_num,bus_num]\n",
        "    \n",
        "    if chosen != -1:\n",
        "        # check row, column is empty\n",
        "        if check_row(rating,user_num,bus_num) and check_column(rating,user_num,bus_num):\n",
        "            test_matrix[user_num,bus_num] = chosen\n",
        "            rating[user_num,bus_num] = -1\n",
        "            test+=1\n",
        "\n"
      ],
      "metadata": {
        "id": "gYQlT3fKLawO"
      },
      "execution_count": null,
      "outputs": []
    },
    {
      "cell_type": "code",
      "source": [
        "# 빈 matrix rating 0으로 교체.\n",
        "for i in range(100):\n",
        "  for j in range(50):\n",
        "    if test_matrix[i,j] ==-1:\n",
        "      test_matrix[i,j] = 0\n",
        "for i in range(100):\n",
        "  for j in range(50):\n",
        "    if rating[i,j] ==-1:\n",
        "      rating[i,j] = 0\n",
        "\n",
        "    "
      ],
      "metadata": {
        "id": "g69rviLDaREN"
      },
      "execution_count": null,
      "outputs": []
    },
    {
      "cell_type": "code",
      "source": [
        "# matrix factorization 정의\n",
        "import numpy as np\n",
        "\n",
        "class MF():\n",
        "\n",
        "    def __init__(self, R, K, alpha, beta, iterations):\n",
        "        \"\"\"\n",
        "        Perform matrix factorization to predict empty\n",
        "        entries in a matrix.\n",
        "\n",
        "        Arguments\n",
        "        - R (ndarray)   : user-item rating matrix\n",
        "        - K (int)       : number of latent dimensions\n",
        "        - alpha (float) : learning rate\n",
        "        - beta (float)  : regularization parameter\n",
        "        \"\"\"\n",
        "\n",
        "        self.R = R\n",
        "        self.num_users, self.num_items = R.shape\n",
        "        self.K = K\n",
        "        self.alpha = alpha\n",
        "        self.beta = beta\n",
        "        self.iterations = iterations\n",
        "\n",
        "    def train(self):\n",
        "        # Initialize user and item latent feature matrice\n",
        "        self.P = np.random.normal(scale=1./self.K, size=(self.num_users, self.K))\n",
        "        self.Q = np.random.normal(scale=1./self.K, size=(self.num_items, self.K))\n",
        "\n",
        "        # Initialize the biases\n",
        "        self.b_u = np.zeros(self.num_users)\n",
        "        self.b_i = np.zeros(self.num_items)\n",
        "        self.b = np.mean(self.R[np.where(self.R != 0 )]) # R = [1 2 0] -> self.b = mean([1 2]) = 1.5   np.mean(R) = 3/3 = 1\n",
        "\n",
        "        # Create a list of training samples\n",
        "        self.samples = [\n",
        "            (i, j, self.R[i, j])\n",
        "            for i in range(self.num_users)\n",
        "            for j in range(self.num_items)\n",
        "            if self.R[i, j] > 0\n",
        "        ] # R = [[1,0], [0,2]]  --> self.samples = [(0,0,1), (1,1,2)]\n",
        "\n",
        "        # Perform stochastic gradient descent for number of iterations\n",
        "        training_process = []\n",
        "        for i in range(self.iterations):\n",
        "            np.random.shuffle(self.samples)\n",
        "            self.sgd()\n",
        "            mse = self.mse() # R(i,j) -> P(i,:) * Q.T(j,:) + b + b_i(i) + b_u(j)\n",
        "            training_process.append((i, mse))\n",
        "            if (i+1) % 10 == 0:\n",
        "                print(\"Iteration: %d ; error = %.4f\" % (i+1, mse))\n",
        "\n",
        "        return training_process\n",
        "\n",
        "    def mse(self):\n",
        "        \"\"\"\n",
        "        A function to compute the total mean square error\n",
        "        \"\"\"\n",
        "        xs, ys = self.R.nonzero()\n",
        "        predicted = self.full_matrix()\n",
        "        error = 0\n",
        "        for x, y in zip(xs, ys):\n",
        "            error += pow(self.R[x, y] - predicted[x, y], 2)\n",
        "        return np.sqrt(error)\n",
        "\n",
        "    def sgd(self):\n",
        "        \"\"\"\n",
        "        Perform stochastic graident descent\n",
        "        \"\"\"\n",
        "        for i, j, r in self.samples:\n",
        "            # Computer prediction and error\n",
        "            prediction = self.get_rating(i, j)\n",
        "            e = (r - prediction)\n",
        "\n",
        "            # Update biases\n",
        "            self.b_u[i] += self.alpha * (e - self.beta * self.b_u[i])\n",
        "            self.b_i[j] += self.alpha * (e - self.beta * self.b_i[j])\n",
        "\n",
        "            # Update user and item latent feature matrices\n",
        "            self.P[i, :] += self.alpha * (e * self.Q[j, :] - self.beta * self.P[i,:])\n",
        "            self.Q[j, :] += self.alpha * (e * self.P[i, :] - self.beta * self.Q[j,:])\n",
        "\n",
        "    def get_rating(self, i, j):\n",
        "        \"\"\"\n",
        "        Get the predicted rating of user i and item j\n",
        "        \"\"\"\n",
        "        prediction = self.b + self.b_u[i] + self.b_i[j] + self.P[i, :].dot(self.Q[j, :].T)\n",
        "        return prediction\n",
        "\n",
        "    def full_matrix(self):\n",
        "        \"\"\"\n",
        "        Computer the full matrix using the resultant biases, P and Q\n",
        "        \"\"\"\n",
        "        return self.b + self.b_u[:,np.newaxis] + self.b_i[np.newaxis:,] + self.P.dot(self.Q.T)"
      ],
      "metadata": {
        "id": "Z70Zhz6zoy0s"
      },
      "execution_count": null,
      "outputs": []
    },
    {
      "cell_type": "code",
      "source": [
        "# test case의 loss를 확인하기 위함\n",
        "def mse(matrix,predicted):\n",
        "        \"\"\"\n",
        "        A function to compute the total mean square error\n",
        "        \"\"\"\n",
        "        xs, ys = matrix.nonzero()\n",
        "        \n",
        "        error = 0\n",
        "        for x, y in zip(xs, ys):\n",
        "            error += pow(matrix[x, y] - predicted[x, y], 2)\n",
        "        return np.sqrt(error)"
      ],
      "metadata": {
        "id": "2z816kieAN-b"
      },
      "execution_count": null,
      "outputs": []
    },
    {
      "cell_type": "code",
      "source": [
        "# iteration 에 따른 loss 변화 ploting\n",
        "import matplotlib.pyplot as plt\n",
        "def plot(train_loss,rank):\n",
        "  iter = []\n",
        "  loss = []\n",
        "  for x, y in train_loss:\n",
        "    iter.append(x)\n",
        "    loss.append(y)\n",
        "  plt.plot(iter,loss)\n",
        "  plt.title(\"rank size =\"+ str(rank))\n",
        "  plt.xlabel(\"iteration\")\n",
        "  plt.ylabel(\"loss\")\n",
        "  plt.show()"
      ],
      "metadata": {
        "id": "3BNiR4TQDdEc"
      },
      "execution_count": null,
      "outputs": []
    },
    {
      "cell_type": "code",
      "source": [
        "# rank에 따른 train,plot,test_loss 출력\n",
        "def train_by_rank(rank):\n",
        "  mf = MF(rating, K=rank, alpha=0.1, beta=0.05, iterations=50)\n",
        "  train_loss = mf.train()\n",
        "  test_loss = mse(test_matrix,mf.full_matrix())\n",
        "  plot(train_loss,rank)\n",
        "  test_loss = mse(test_matrix,mf.full_matrix())\n",
        "  print(\"Test loss : \",test_loss)"
      ],
      "metadata": {
        "id": "uFW1WuYzC_3Z"
      },
      "execution_count": null,
      "outputs": []
    },
    {
      "cell_type": "code",
      "source": [
        "# train\n",
        "train_by_rank(5)\n",
        "train_by_rank(10)\n",
        "train_by_rank(15)\n",
        "train_by_rank(20)"
      ],
      "metadata": {
        "colab": {
          "base_uri": "https://localhost:8080/",
          "height": 1000
        },
        "id": "cXlciN1lDltS",
        "outputId": "39602c6b-1726-4a8e-806f-9e7f0d21bef4"
      },
      "execution_count": null,
      "outputs": [
        {
          "output_type": "stream",
          "name": "stdout",
          "text": [
            "Iteration: 10 ; error = 15.7200\n",
            "Iteration: 20 ; error = 14.1066\n",
            "Iteration: 30 ; error = 13.3281\n",
            "Iteration: 40 ; error = 12.8474\n",
            "Iteration: 50 ; error = 12.7680\n"
          ]
        },
        {
          "output_type": "display_data",
          "data": {
            "text/plain": [
              "<Figure size 432x288 with 1 Axes>"
            ],
            "image/png": "[encoded data removed]"
          },
          "metadata": {
            "needs_background": "light"
          }
        },
        {
          "output_type": "stream",
          "name": "stdout",
          "text": [
            "Test loss :  11.26838282818237\n",
            "Iteration: 10 ; error = 9.9270\n",
            "Iteration: 20 ; error = 7.5668\n",
            "Iteration: 30 ; error = 7.0259\n",
            "Iteration: 40 ; error = 6.7554\n",
            "Iteration: 50 ; error = 6.8082\n"
          ]
        },
        {
          "output_type": "display_data",
          "data": {
            "text/plain": [
              "<Figure size 432x288 with 1 Axes>"
            ],
            "image/png": "[encoded data removed]"
          },
          "metadata": {
            "needs_background": "light"
          }
        },
        {
          "output_type": "stream",
          "name": "stdout",
          "text": [
            "Test loss :  9.479903175698086\n",
            "Iteration: 10 ; error = 8.9699\n",
            "Iteration: 20 ; error = 6.2949\n",
            "Iteration: 30 ; error = 5.8107\n",
            "Iteration: 40 ; error = 5.5398\n",
            "Iteration: 50 ; error = 5.2934\n"
          ]
        },
        {
          "output_type": "display_data",
          "data": {
            "text/plain": [
              "<Figure size 432x288 with 1 Axes>"
            ],
            "image/png": "[encoded data removed]"
          },
          "metadata": {
            "needs_background": "light"
          }
        },
        {
          "output_type": "stream",
          "name": "stdout",
          "text": [
            "Test loss :  8.992487042055245\n",
            "Iteration: 10 ; error = 8.3245\n",
            "Iteration: 20 ; error = 5.6888\n",
            "Iteration: 30 ; error = 5.3150\n",
            "Iteration: 40 ; error = 5.0078\n",
            "Iteration: 50 ; error = 4.9590\n"
          ]
        },
        {
          "output_type": "display_data",
          "data": {
            "text/plain": [
              "<Figure size 432x288 with 1 Axes>"
            ],
            "image/png": "[encoded data removed]"
          },
          "metadata": {
            "needs_background": "light"
          }
        },
        {
          "output_type": "stream",
          "name": "stdout",
          "text": [
            "Test loss :  8.93851448788218\n"
          ]
        }
      ]
    }
  ]
}